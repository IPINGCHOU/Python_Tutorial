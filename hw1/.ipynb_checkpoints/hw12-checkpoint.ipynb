{
 "cells": [
  {
   "cell_type": "markdown",
   "metadata": {},
   "source": [
    "## 作業 1\n",
    "這次的作業希望你們可以利用所學來找到資料中想要的部分，共三題，三題的答案都留在這份code中了，若是真的想不出來，可以打開 ans12.ipynb 來看看我寫的解答 (不一定是最好的喔，有自己的想法是最棒的)"
   ]
  },
  {
   "cell_type": "code",
   "execution_count": 20,
   "metadata": {},
   "outputs": [
    {
     "data": {
      "text/plain": [
       "'United States?(USA) [P] [Q] [R] [Z]'"
      ]
     },
     "execution_count": 20,
     "metadata": {},
     "output_type": "execute_result"
    }
   ],
   "source": [
    "def answer21():\n",
    "# import data\n",
    "# 已經將如何將資料讀入寫好了\n",
    "# 可以試著使用 print(data)來看看讀進去的資料長甚麼樣子\n",
    "    import csv\n",
    "    file_name = \"olympics.csv\"\n",
    "    olympics = open(file_name, 'r')\n",
    "    csvCursor = csv.reader(olympics)\n",
    "    data = []\n",
    "    for row in csvCursor:\n",
    "        data.append(row)\n",
    "    olympics.close()\n",
    "\n",
    "    num_summer_metal = []\n",
    "    max_index = []\n",
    "    max_country = []\n",
    "\n",
    "# 提示作法 (當然你也可以自己有別的作法) :\n",
    "# 1. 先將 summer gold metals 行儲存進任一個變數\n",
    "# 2. 從剛行中找出最大值的索引\n",
    "# 3. 從國家名中取出該索引的國家\n",
    "\n",
    "# 請將你的程式碼寫在這\n",
    "# 請注意層級 (一個 tab)\n",
    "    \n",
    "answer21()"
   ]
  },
  {
   "cell_type": "code",
   "execution_count": 22,
   "metadata": {},
   "outputs": [
    {
     "data": {
      "text/plain": [
       "'United States?(USA) [P] [Q] [R] [Z]'"
      ]
     },
     "execution_count": 22,
     "metadata": {},
     "output_type": "execute_result"
    }
   ],
   "source": [
    "def answer22():\n",
    "#import data\n",
    "    import csv\n",
    "    file_name = \"olympics.csv\"\n",
    "    olympics = open(file_name, 'r')\n",
    "    csvCursor = csv.reader(olympics)\n",
    "    data = []\n",
    "    for row in csvCursor:\n",
    "        data.append(row)\n",
    "    olympics.close()\n",
    "    \n",
    "    num_metal =[]\n",
    "    max_index = []\n",
    "    max_country = []\n",
    "\n",
    "# 提示作法 (當然你也可以自己有別的作法) :\n",
    "# 1. 先找出每個國家夏季與冬季獎牌數之差(記得取絕對值)後儲存進任一個變數\n",
    "# 2. 從剛行中找出最大值的索引\n",
    "# 3. 從國家名中取出該索引的國家\n",
    "\n",
    "# 請將你的程式碼寫在這\n",
    "# 請注意層級 (一個 tab)\n",
    "\n",
    "answer22()"
   ]
  },
  {
   "cell_type": "code",
   "execution_count": 29,
   "metadata": {},
   "outputs": [
    {
     "data": {
      "text/plain": [
       "'Bulgaria?(BUL) [H]'"
      ]
     },
     "execution_count": 29,
     "metadata": {},
     "output_type": "execute_result"
    }
   ],
   "source": [
    "def answer23():\n",
    "#import data\n",
    "    import csv\n",
    "    file_name = \"olympics.csv\"\n",
    "    olympics = open(file_name, 'r')\n",
    "    csvCursor = csv.reader(olympics)\n",
    "    data = []\n",
    "    for row in csvCursor:\n",
    "        data.append(row)\n",
    "    olympics.close()\n",
    "    \n",
    "    num_metal =[]\n",
    "    max_index = []\n",
    "    max_country = []\n",
    "    \n",
    "# 提示作法 (當然你也可以自己有別的作法) :\n",
    "# 1. 若是該國家夏季與冬季獎牌數皆不為 0，則將之相減取絕對值後除以獎牌總數，並儲存在一個變數 (list) 之中\n",
    "# 2. 若是該國家夏季與冬季獎牌數皆為 0，則直接取0除存在變數中\n",
    "# 3. 1, 2可以用 if else達成\n",
    "# 4. 找出你的變數 (list) 中之最大值，並找到這個最大值的索引\n",
    "# 5. 找出該索引的國家\n",
    "\n",
    "# 請將你的程式碼寫在這\n",
    "# 請注意層級 (一個 tab)\n",
    "\n",
    "answer23()\n",
    "    "
   ]
  }
 ],
 "metadata": {
  "kernelspec": {
   "display_name": "Python 3",
   "language": "python",
   "name": "python3"
  },
  "language_info": {
   "codemirror_mode": {
    "name": "ipython",
    "version": 3
   },
   "file_extension": ".py",
   "mimetype": "text/x-python",
   "name": "python",
   "nbconvert_exporter": "python",
   "pygments_lexer": "ipython3",
   "version": "3.6.5"
  }
 },
 "nbformat": 4,
 "nbformat_minor": 2
}
