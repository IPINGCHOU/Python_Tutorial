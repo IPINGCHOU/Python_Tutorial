{
 "cells": [
  {
   "cell_type": "markdown",
   "metadata": {},
   "source": [
    "## 程式寫作小技巧 & 常用手法\n",
    "### 1. 排版:\n",
    "排版是十分重要的，他不僅可以讓你程式碼相對整齊漂亮，也可以再當你無法找出自己的bug時，就算請別人幫你debug，別人也可以快速理解你的碼到底在做些甚麼事情。那哪些事情可以幫助你的排版呢? <br>"
   ]
  },
  {
   "cell_type": "markdown",
   "metadata": {},
   "source": [
    "### 善用空白鍵\n",
    "善用空白鍵可以讓你的字不會通通黏在一起，看起來通順許多: <br>\n",
    "使用一個看起來很長很長的函式來試試看 <br>\n",
    "常用的使用時機有\n",
    "1. 邏輯運算子前後\n",
    "2. 逗號後"
   ]
  },
  {
   "cell_type": "code",
   "execution_count": null,
   "metadata": {},
   "outputs": [],
   "source": [
    "# 不用空白鍵\n",
    "for x in range(5,self.width-5,75):\n",
    "    self.add_brick(x+37.5,50,2)\n",
    "    self.add_brick(x+37.5,70,1)\n",
    "    self.add_brick(x+37.5,90,1)\n",
    "    \n",
    "# 放了空白鍵\n",
    "for x in range(5, self.width - 5, 75):\n",
    "    self.add_brick(x + 37.5, 50, 2)\n",
    "    self.add_brick(x + 37.5, 70, 1)\n",
    "    self.add_brick(x + 37.5, 90, 1)"
   ]
  },
  {
   "cell_type": "markdown",
   "metadata": {},
   "source": [
    "### 函式命名\n",
    "盡量使用有意義的單字來命名，比如說我想寫一個 a+b 的函式，我可以簡單命名為 <br>\n",
    "1. def a_plus_b():\n",
    "2. def aPlusb(): <br>\n",
    "...etc 我個人習慣用 _ 來分割單字，但我的大學教授習慣用大寫來分割單字，舉個例子 <br>\n",
    "1. def ThisIsAFunction():\n",
    "2. def this_is_a_function(): <br>\n",
    "都可以，只要你們有命名函式的習慣即可"
   ]
  },
  {
   "cell_type": "markdown",
   "metadata": {},
   "source": [
    "### 變數命名\n",
    "跟函式命名一樣，盡量都去命名你的變數，不要用a，aaa，bbcc這類 <br>\n",
    "但當你在寫一些數學公式的時候，使用abc命名反而會相對簡單，因為本來數學式子就這樣寫 <br>\n",
    "舉個例子，我今天想寫一個利用海龍公式算三角形面積的函式 <br>\n",
    "公式如下:"
   ]
  },
  {
   "cell_type": "code",
   "execution_count": 2,
   "metadata": {},
   "outputs": [
    {
     "data": {
      "image/jpeg": "[encoded data removed]",
      "text/plain": [
       "<IPython.core.display.Image object>"
      ]
     },
     "execution_count": 2,
     "metadata": {
      "image/jpeg": {
       "height": 400,
       "width": 400
      }
     },
     "output_type": "execute_result"
    }
   ],
   "source": [
    "from IPython.display import Image\n",
    "Image(filename = 'hero_formula.jpg',width = 400, height = 400)"
   ]
  },
  {
   "cell_type": "code",
   "execution_count": 3,
   "metadata": {},
   "outputs": [],
   "source": [
    "# 使用命名\n",
    "import math\n",
    "def Named_parameter(num1, num2, num3):\n",
    "    half_perimeter = (num1 + num2 + num3) / 2\n",
    "    half_a = half_perimeter - num1\n",
    "    half_b = half_perimeter - num2\n",
    "    half_c = half_perimeter - num3\n",
    "    area = math.sqrt(half_perimeter * half_a * half_b * half_c)\n",
    "    return area\n",
    "\n",
    "# 不使用命名\n",
    "def Unnamed_parameter(a, b, c):\n",
    "    s = (a + b + c) / 2\n",
    "    area = math.sqrt(s * (s-a) * (s-b) * (s-c))\n",
    "    return area"
   ]
  },
  {
   "cell_type": "code",
   "execution_count": 4,
   "metadata": {},
   "outputs": [
    {
     "name": "stdout",
     "output_type": "stream",
     "text": [
      "6.0\n",
      "6.0\n"
     ]
    }
   ],
   "source": [
    "print(Named_parameter(3,4,5))\n",
    "print(Unnamed_parameter(3,4,5))"
   ]
  },
  {
   "cell_type": "markdown",
   "metadata": {},
   "source": [
    "所以如何妥善使用變數命名也是很重要的"
   ]
  },
  {
   "cell_type": "markdown",
   "metadata": {},
   "source": [
    "### 善用 enter 鍵\n",
    "enter是用來斷句的，讓你冗長的碼截斷，特別是重複性高的碼的時候 <br>\n",
    "舉個例子:"
   ]
  },
  {
   "cell_type": "code",
   "execution_count": null,
   "metadata": {},
   "outputs": [],
   "source": [
    "# 這是有 enter 的\n",
    "item = canvas.create_rectangle(x - self.width /2,\n",
    "                                y - self.height /2,\n",
    "                                x + self.width /2,\n",
    "                                y + self.height /2,\n",
    "                                fill = color,\n",
    "                                tags = 'brick')\n",
    "# 這是沒 enter 的\n",
    "item = canvas.create_rectangle(x - self.width /2,y - self.height /2,x + self.width /2,y + self.height /2,fill = color,tags = 'brick')"
   ]
  },
  {
   "cell_type": "markdown",
   "metadata": {},
   "source": [
    "那甚麼時候使用enter才對呢? 遇到逗號的時候就對了!"
   ]
  },
  {
   "cell_type": "markdown",
   "metadata": {},
   "source": [
    "## 重要! 千萬不要亂用 tab\n",
    "tab相對python來說，是函式括號的意思，舉例來說在c++裏頭我想寫一個函式，且他不會有輸出 <br>"
   ]
  },
  {
   "cell_type": "code",
   "execution_count": null,
   "metadata": {},
   "outputs": [],
   "source": [
    "# C++\n",
    "void Function(){\n",
    "    write something here\n",
    "}\n",
    "\n",
    "# python\n",
    "def Function():\n",
    "    write something here"
   ]
  },
  {
   "cell_type": "markdown",
   "metadata": {},
   "source": [
    "可以看到 python 省略了括號，所以tab在python中是有意義的!"
   ]
  },
  {
   "cell_type": "markdown",
   "metadata": {},
   "source": [
    "## 2. 特殊寫法!\n",
    "1. for迴圈與list的結合?! <br>\n",
    "今天我想產生一串隨機的數列，利用我們一開始的教學會怎麼寫呢?"
   ]
  },
  {
   "cell_type": "code",
   "execution_count": 7,
   "metadata": {},
   "outputs": [
    {
     "name": "stdout",
     "output_type": "stream",
     "text": [
      "[65, 31, 11, 99, 19, 80, 21, 28, 6, 6]\n"
     ]
    }
   ],
   "source": [
    "import random\n",
    "a = []\n",
    "for i in range(10):\n",
    "    a.append(random.randint(0,99))\n",
    "print(a)"
   ]
  },
  {
   "cell_type": "markdown",
   "metadata": {},
   "source": [
    "但我可以一行秒殺"
   ]
  },
  {
   "cell_type": "code",
   "execution_count": 10,
   "metadata": {},
   "outputs": [
    {
     "data": {
      "text/plain": [
       "[96, 87, 23, 21, 73, 68, 7, 0, 83, 0]"
      ]
     },
     "execution_count": 10,
     "metadata": {},
     "output_type": "execute_result"
    }
   ],
   "source": [
    "# list comprehension\n",
    "a = [random.randint(0,99) for x in range(10)]\n",
    "a"
   ]
  },
  {
   "cell_type": "markdown",
   "metadata": {},
   "source": [
    "現在換你們試試看了 <br>\n",
    "幫我生出 20 個 0~99 的隨機數字，我要看到該list以及它的長度 (利用 len() )"
   ]
  },
  {
   "cell_type": "code",
   "execution_count": 11,
   "metadata": {},
   "outputs": [
    {
     "name": "stdout",
     "output_type": "stream",
     "text": [
      "[89, 47, 9, 53, 58, 50, 51, 89, 36, 20, 6, 3, 38, 71, 22, 21, 28, 62, 28, 59]\n",
      "20\n"
     ]
    }
   ],
   "source": [
    "b = [random.randint(0,99) for x in range(20)]\n",
    "print(b)\n",
    "print(len(b))"
   ]
  },
  {
   "cell_type": "markdown",
   "metadata": {},
   "source": [
    "2. 擔心因為單一一處問題導致程式直接停止? <br>\n",
    "使用 try ... except ... finally 吧! <br>\n",
    "假設今天我想要使用者輸入數字，但我沒有寫如果使用者輸入數字以外的選項電腦該怎麼做的話..."
   ]
  },
  {
   "cell_type": "code",
   "execution_count": 34,
   "metadata": {},
   "outputs": [
    {
     "ename": "ValueError",
     "evalue": "invalid literal for int() with base 10: 'hi'",
     "output_type": "error",
     "traceback": [
      "\u001b[1;31m---------------------------------------------------------------------------\u001b[0m",
      "\u001b[1;31mValueError\u001b[0m                                Traceback (most recent call last)",
      "\u001b[1;32m<ipython-input-34-5d360d0c1835>\u001b[0m in \u001b[0;36m<module>\u001b[1;34m()\u001b[0m\n\u001b[0;32m      1\u001b[0m \u001b[0ma\u001b[0m \u001b[1;33m=\u001b[0m \u001b[1;34m'hi'\u001b[0m\u001b[1;33m\u001b[0m\u001b[0m\n\u001b[1;32m----> 2\u001b[1;33m \u001b[0mint\u001b[0m\u001b[1;33m(\u001b[0m\u001b[0ma\u001b[0m\u001b[1;33m)\u001b[0m\u001b[1;33m\u001b[0m\u001b[0m\n\u001b[0m",
      "\u001b[1;31mValueError\u001b[0m: invalid literal for int() with base 10: 'hi'"
     ]
    }
   ],
   "source": [
    "a = 'hi'\n",
    "int(a)"
   ]
  },
  {
   "cell_type": "markdown",
   "metadata": {},
   "source": [
    "很理所當然地出錯了，所以我要令電腦\"嘗試\"做做看int這個動作，當失敗時該如何如何..."
   ]
  },
  {
   "cell_type": "code",
   "execution_count": 35,
   "metadata": {},
   "outputs": [
    {
     "name": "stdout",
     "output_type": "stream",
     "text": [
      "this is not a number\n"
     ]
    }
   ],
   "source": [
    "b = 'hi'\n",
    "try:\n",
    "    int(b)\n",
    "except:\n",
    "    print('this is not a number')"
   ]
  },
  {
   "cell_type": "markdown",
   "metadata": {},
   "source": [
    "可以看到電腦無法運行 int(b) 所以他改 print 出 this is not a number 這段話 <br>\n",
    "而當有無論有無發生例外都想做的事情時，利用 finally 來做到"
   ]
  },
  {
   "cell_type": "code",
   "execution_count": 38,
   "metadata": {},
   "outputs": [
    {
     "name": "stdout",
     "output_type": "stream",
     "text": [
      "input can convert to INT\n",
      "--- A try except test ---\n"
     ]
    }
   ],
   "source": [
    "try:\n",
    "    print(int(b))\n",
    "except:\n",
    "    print('input can convert to INT')\n",
    "finally:\n",
    "    print('--- A try except test ---')"
   ]
  },
  {
   "cell_type": "code",
   "execution_count": 40,
   "metadata": {},
   "outputs": [
    {
     "name": "stdout",
     "output_type": "stream",
     "text": [
      "3\n",
      "--- A try except test ---\n"
     ]
    }
   ],
   "source": [
    "c = 3\n",
    "try:\n",
    "    print(int(c))\n",
    "except:\n",
    "    print('input can convert to INT')\n",
    "finally:\n",
    "    print('--- A try except test ---')"
   ]
  },
  {
   "cell_type": "markdown",
   "metadata": {},
   "source": [
    "現在我要你們試著讓電腦將字串(打個'test')轉換為int，但不允許跳python出錯畫面，例外發生的語句隨便寫，而且我要不論例外是否發生，都print這句話 : A try except test"
   ]
  },
  {
   "cell_type": "code",
   "execution_count": 41,
   "metadata": {},
   "outputs": [
    {
     "name": "stdout",
     "output_type": "stream",
     "text": [
      "input can convert to INT\n",
      "--- A try except test ---\n"
     ]
    }
   ],
   "source": [
    "try:\n",
    "    print(int('test'))\n",
    "except:\n",
    "    print('input can convert to INT')\n",
    "finally:\n",
    "    print('--- A try except test ---')\n",
    "    "
   ]
  },
  {
   "cell_type": "markdown",
   "metadata": {},
   "source": [
    "而錯誤發生常常有許多種狀況，如課本 9-15 頁提到的各種 <br> \n",
    "所以可以利用疊更多except來抓更準確的例外 <br>\n",
    "舉例：利用課本上寫的例子，我今天想算 a 除以 b"
   ]
  },
  {
   "cell_type": "code",
   "execution_count": 47,
   "metadata": {},
   "outputs": [
    {
     "name": "stdout",
     "output_type": "stream",
     "text": [
      "['請輸入分子']30\n",
      "['請輸入分母']d\n",
      "輸入非數值的錯誤\n"
     ]
    }
   ],
   "source": [
    "try:\n",
    "    a = int(input(['請輸入分子']))\n",
    "    b = int(input(['請輸入分母']))\n",
    "    r = a / b\n",
    "    print('r = ' ,r)\n",
    "except ValueError:\n",
    "    print('輸入非數值的錯誤')\n",
    "except ZeroDivisionError:\n",
    "    print('分母不能為 0 ')"
   ]
  },
  {
   "cell_type": "code",
   "execution_count": 49,
   "metadata": {},
   "outputs": [
    {
     "name": "stdout",
     "output_type": "stream",
     "text": [
      "['請輸入分子']30\n",
      "['請輸入分母']0\n",
      "分母不能為 0 \n"
     ]
    }
   ],
   "source": [
    "try:\n",
    "    a = int(input(['請輸入分子']))\n",
    "    b = int(input(['請輸入分母']))\n",
    "    r = a / b\n",
    "    print('r = ' ,r)\n",
    "except ValueError:\n",
    "    print('輸入非數值的錯誤')\n",
    "except ZeroDivisionError:\n",
    "    print('分母不能為 0 ')"
   ]
  },
  {
   "cell_type": "markdown",
   "metadata": {},
   "source": [
    "## global 與 local 變數\n",
    "變數並不單純只是宣告即可，有分成global與local兩種不同狀態的變數 <br>\n",
    "global表 \"全域宣告\" 也就是只要你一宣告該變數，他就可以被任意的調用 <br>\n",
    "local 表 \"區域宣告\" 代表此變數只能在 \"某個特定區塊\" 使用，不能被其他地區調用 <br>\n",
    "聽不懂嗎? 舉個例子:"
   ]
  },
  {
   "cell_type": "code",
   "execution_count": 55,
   "metadata": {},
   "outputs": [
    {
     "name": "stdout",
     "output_type": "stream",
     "text": [
      "inside the function a is  10\n",
      "outside the function a is\n"
     ]
    },
    {
     "ename": "NameError",
     "evalue": "name 'a' is not defined",
     "output_type": "error",
     "traceback": [
      "\u001b[1;31m---------------------------------------------------------------------------\u001b[0m",
      "\u001b[1;31mNameError\u001b[0m                                 Traceback (most recent call last)",
      "\u001b[1;32m<ipython-input-55-f674a4311fa7>\u001b[0m in \u001b[0;36m<module>\u001b[1;34m()\u001b[0m\n\u001b[0;32m      6\u001b[0m \u001b[1;33m\u001b[0m\u001b[0m\n\u001b[0;32m      7\u001b[0m \u001b[0mprint\u001b[0m\u001b[1;33m(\u001b[0m\u001b[1;34m'outside the function a is'\u001b[0m\u001b[1;33m)\u001b[0m\u001b[1;33m\u001b[0m\u001b[0m\n\u001b[1;32m----> 8\u001b[1;33m \u001b[0mprint\u001b[0m\u001b[1;33m(\u001b[0m\u001b[0ma\u001b[0m\u001b[1;33m)\u001b[0m\u001b[1;33m\u001b[0m\u001b[0m\n\u001b[0m",
      "\u001b[1;31mNameError\u001b[0m: name 'a' is not defined"
     ]
    }
   ],
   "source": [
    "def test():\n",
    "    a = 10\n",
    "    print('inside the function a is ', a)\n",
    "    \n",
    "test()\n",
    "\n",
    "print('outside the function a is')\n",
    "print(a)"
   ]
  },
  {
   "cell_type": "markdown",
   "metadata": {},
   "source": [
    "你會發現我明明在 test() 中宣告了 a = 10，也執行了test()，但想要print出來時，他卻跟我說a沒定義，為什麼呢? <br>\n",
    "那是因為在函式中所定義的所有變數通通都是 local，也就是區域變數，是無法在該函式外調用的 <br>\n",
    "那如果我有時候需要在函式裡面宣告一些global的東西該怎麼辦呢? <br>\n",
    "那就利用 global 宣告給他吧!"
   ]
  },
  {
   "cell_type": "code",
   "execution_count": 56,
   "metadata": {},
   "outputs": [
    {
     "name": "stdout",
     "output_type": "stream",
     "text": [
      "inside the function a is  10\n",
      "outside the function a is  10\n"
     ]
    }
   ],
   "source": [
    "def test_2():\n",
    "    global a\n",
    "    a = 10\n",
    "    print('inside the function a is ', a)\n",
    "\n",
    "test_2()\n",
    "\n",
    "print('outside the function a is ', a)"
   ]
  },
  {
   "cell_type": "markdown",
   "metadata": {},
   "source": [
    "可以看到我這次多宣告了一行 global a，使得a成為了全域變數，我就可以在該函式外也調用他了"
   ]
  },
  {
   "cell_type": "markdown",
   "metadata": {},
   "source": [
    "現在換你們試試看，我要你們更改已經宣告好的全域變數，然後計算三角形面積 <br>\n"
   ]
  },
  {
   "cell_type": "code",
   "execution_count": null,
   "metadata": {},
   "outputs": [],
   "source": [
    "weight = 10 \n",
    "height = 20 \n",
    "\n",
    "# 在這邊寫你們的 code \n",
    "# 利用一個函式把 weight 改成 5 , height 改成 10\n",
    "# 讓最後的答案變成 5 * 10 / 2 = 25\n",
    "\n",
    "weight * height / 2"
   ]
  },
  {
   "cell_type": "code",
   "execution_count": 58,
   "metadata": {},
   "outputs": [
    {
     "data": {
      "text/plain": [
       "25.0"
      ]
     },
     "execution_count": 58,
     "metadata": {},
     "output_type": "execute_result"
    }
   ],
   "source": [
    "weight = 10\n",
    "height = 20\n",
    "\n",
    "def change_para():\n",
    "    global weight\n",
    "    global height\n",
    "    weight = 5\n",
    "    height = 10\n",
    "\n",
    "change_para()\n",
    "\n",
    "weight * height / 2"
   ]
  }
 ],
 "metadata": {
  "kernelspec": {
   "display_name": "Python 3",
   "language": "python",
   "name": "python3"
  },
  "language_info": {
   "codemirror_mode": {
    "name": "ipython",
    "version": 3
   },
   "file_extension": ".py",
   "mimetype": "text/x-python",
   "name": "python",
   "nbconvert_exporter": "python",
   "pygments_lexer": "ipython3",
   "version": "3.6.5"
  }
 },
 "nbformat": 4,
 "nbformat_minor": 2
}
